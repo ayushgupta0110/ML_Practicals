{
 "cells": [
  {
   "cell_type": "code",
   "execution_count": 11,
   "metadata": {},
   "outputs": [],
   "source": [
    "# importing modules and packages\n",
    "import pandas as pd\n",
    "import numpy as np\n",
    "import matplotlib.pyplot as plt\n",
    "import seaborn as sns\n",
    "from sklearn.model_selection import train_test_split\n",
    "from sklearn.linear_model import LinearRegression\n",
    "from sklearn.metrics import mean_squared_error, mean_absolute_error, r2_score\n",
    "from sklearn import preprocessing"
   ]
  },
  {
   "cell_type": "code",
   "execution_count": 3,
   "metadata": {},
   "outputs": [
    {
     "data": {
      "text/plain": [
       "(array([-5. , -4.5, -4. , -3.5, -3. , -2.5, -2. , -1.5, -1. , -0.5,  0. ,\n",
       "         0.5,  1. ,  1.5,  2. ,  2.5,  3. ,  3.5,  4. ,  4.5]),\n",
       " array([25.  , 20.25, 16.  , 12.25,  9.  ,  6.25,  4.  ,  2.25,  1.  ,\n",
       "         0.25,  0.  ,  0.25,  1.  ,  2.25,  4.  ,  6.25,  9.  , 12.25,\n",
       "        16.  , 20.25]))"
      ]
     },
     "execution_count": 3,
     "metadata": {},
     "output_type": "execute_result"
    }
   ],
   "source": [
    "x1 = np.arange(-5,5,0.5)\n",
    "y = np.power(x1,2)\n",
    "x1,y"
   ]
  },
  {
   "cell_type": "code",
   "execution_count": 5,
   "metadata": {},
   "outputs": [
    {
     "data": {
      "text/plain": [
       "array([23.55768372, 19.07747509, 16.57439515, 18.61573637,  3.20747855,\n",
       "        6.83804547,  3.45475718,  1.32653422, -1.49163521,  1.21795065,\n",
       "        2.98958882,  5.95692574,  0.99582166,  4.87850929,  1.08469164,\n",
       "       15.93380492,  9.86196189,  9.70423841, 14.57841292, 16.26467162])"
      ]
     },
     "execution_count": 5,
     "metadata": {},
     "output_type": "execute_result"
    }
   ],
   "source": [
    "y_noise = 3*np.random.normal(size = x1.size)\n",
    "y = y + y_noise\n",
    "y"
   ]
  },
  {
   "cell_type": "code",
   "execution_count": 10,
   "metadata": {},
   "outputs": [
    {
     "data": {
      "text/plain": [
       "<matplotlib.collections.PathCollection at 0x205c2a11940>"
      ]
     },
     "execution_count": 10,
     "metadata": {},
     "output_type": "execute_result"
    },
    {
     "data": {
      "image/png": "[encoded data removed]",
      "text/plain": [
       "<Figure size 432x288 with 1 Axes>"
      ]
     },
     "metadata": {
      "needs_background": "light"
     },
     "output_type": "display_data"
    }
   ],
   "source": [
    "plt.scatter(x1,y)"
   ]
  },
  {
   "cell_type": "code",
   "execution_count": 22,
   "metadata": {},
   "outputs": [
    {
     "ename": "TypeError",
     "evalue": "'numpy.float64' object cannot be interpreted as an integer",
     "output_type": "error",
     "traceback": [
      "\u001b[1;31m---------------------------------------------------------------------------\u001b[0m",
      "\u001b[1;31mTypeError\u001b[0m                                 Traceback (most recent call last)",
      "\u001b[1;32mc:\\Users\\Ayush Gupta\\Desktop\\Semester 6\\ML\\ML_Practicals\\Practical1c.ipynb Cell 5\u001b[0m in \u001b[0;36m<cell line: 3>\u001b[1;34m()\u001b[0m\n\u001b[0;32m      <a href='vscode-notebook-cell:/c%3A/Users/Ayush%20Gupta/Desktop/Semester%206/ML/ML_Practicals/Practical1c.ipynb#X11sZmlsZQ%3D%3D?line=0'>1</a>\u001b[0m \u001b[39m# Creating the linear regression model\u001b[39;00m\n\u001b[0;32m      <a href='vscode-notebook-cell:/c%3A/Users/Ayush%20Gupta/Desktop/Semester%206/ML/ML_Practicals/Practical1c.ipynb#X11sZmlsZQ%3D%3D?line=1'>2</a>\u001b[0m model \u001b[39m=\u001b[39m LinearRegression()\n\u001b[1;32m----> <a href='vscode-notebook-cell:/c%3A/Users/Ayush%20Gupta/Desktop/Semester%206/ML/ML_Practicals/Practical1c.ipynb#X11sZmlsZQ%3D%3D?line=2'>3</a>\u001b[0m x_train \u001b[39m=\u001b[39m \u001b[39mint\u001b[39m(x1\u001b[39m.\u001b[39;49mreshape(x1))\n\u001b[0;32m      <a href='vscode-notebook-cell:/c%3A/Users/Ayush%20Gupta/Desktop/Semester%206/ML/ML_Practicals/Practical1c.ipynb#X11sZmlsZQ%3D%3D?line=3'>4</a>\u001b[0m model\u001b[39m.\u001b[39mfit(x_train,y)\n\u001b[0;32m      <a href='vscode-notebook-cell:/c%3A/Users/Ayush%20Gupta/Desktop/Semester%206/ML/ML_Practicals/Practical1c.ipynb#X11sZmlsZQ%3D%3D?line=5'>6</a>\u001b[0m y_pred \u001b[39m=\u001b[39m model\u001b[39m.\u001b[39mpredict(x_train)\n",
      "\u001b[1;31mTypeError\u001b[0m: 'numpy.float64' object cannot be interpreted as an integer"
     ]
    }
   ],
   "source": [
    "# Creating the linear regression model\n",
    "model = LinearRegression()\n",
    "x_train = x1.reshape(x1)\n",
    "model.fit(x_train,y)\n",
    "\n",
    "y_pred = model.predict(x_train)\n",
    "y_pred"
   ]
  },
  {
   "cell_type": "code",
   "execution_count": 33,
   "metadata": {},
   "outputs": [
    {
     "data": {
      "text/plain": [
       "<matplotlib.collections.PathCollection at 0x205c29fb6a0>"
      ]
     },
     "execution_count": 33,
     "metadata": {},
     "output_type": "execute_result"
    },
    {
     "data": {
      "image/png": "[encoded data removed]",
      "text/plain": [
       "<Figure size 432x288 with 1 Axes>"
      ]
     },
     "metadata": {
      "needs_background": "light"
     },
     "output_type": "display_data"
    }
   ],
   "source": [
    "# Fit a polynomial of degree 1\n",
    "z = np.polyfit(x1,y,1)\n",
    "p = np.poly1d(z)\n",
    "plt.plot(x1,p(x1),\"r--\")\n",
    "plt.scatter(x1,y)\n",
    "\n",
    "# Fit a polynomial of degree 2\n",
    "z = np.polyfit(x1,y,2)\n",
    "p = np.poly1d(z)\n",
    "plt.plot(x1,p(x1),\"b--\")\n",
    "plt.scatter(x1,y)\n",
    "\n",
    "# Fit a polynomial of degree 10\n",
    "z = np.polyfit(x1,y,10)\n",
    "p = np.poly1d(z)\n",
    "plt.plot(x1,p(x1),\"k--\")\n",
    "plt.scatter(x1,y)"
   ]
  },
  {
   "cell_type": "code",
   "execution_count": null,
   "metadata": {},
   "outputs": [],
   "source": []
  }
 ],
 "metadata": {
  "kernelspec": {
   "display_name": "base",
   "language": "python",
   "name": "python3"
  },
  "language_info": {
   "codemirror_mode": {
    "name": "ipython",
    "version": 3
   },
   "file_extension": ".py",
   "mimetype": "text/x-python",
   "name": "python",
   "nbconvert_exporter": "python",
   "pygments_lexer": "ipython3",
   "version": "3.9.12 (main, Apr  4 2022, 05:22:27) [MSC v.1916 64 bit (AMD64)]"
  },
  "orig_nbformat": 4,
  "vscode": {
   "interpreter": {
    "hash": "36526bd4932420a386fe19e89d3f7c800a069b36dd87d412ba674b50a2ad3fe4"
   }
  }
 },
 "nbformat": 4,
 "nbformat_minor": 2
}
