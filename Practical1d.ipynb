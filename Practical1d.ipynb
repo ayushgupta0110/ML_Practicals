{
 "cells": [
  {
   "cell_type": "code",
   "execution_count": 1,
   "metadata": {},
   "outputs": [],
   "source": [
    "# importing modules and packages\n",
    "import pandas as pd\n",
    "import numpy as np\n",
    "import matplotlib.pyplot as plt\n",
    "import seaborn as sns\n",
    "from sklearn.model_selection import train_test_split\n",
    "from sklearn.linear_model import LinearRegression\n",
    "from sklearn.metrics import mean_squared_error, mean_absolute_error, r2_score\n",
    "from sklearn import preprocessing"
   ]
  },
  {
   "cell_type": "code",
   "execution_count": 2,
   "metadata": {},
   "outputs": [
    {
     "data": {
      "text/plain": [
       "(array([-5. , -4.5, -4. , -3.5, -3. , -2.5, -2. , -1.5, -1. , -0.5,  0. ,\n",
       "         0.5,  1. ,  1.5,  2. ,  2.5,  3. ,  3.5,  4. ,  4.5]),\n",
       " array([25.  , 20.25, 16.  , 12.25,  9.  ,  6.25,  4.  ,  2.25,  1.  ,\n",
       "         0.25,  0.  ,  0.25,  1.  ,  2.25,  4.  ,  6.25,  9.  , 12.25,\n",
       "        16.  , 20.25]))"
      ]
     },
     "execution_count": 2,
     "metadata": {},
     "output_type": "execute_result"
    }
   ],
   "source": [
    "x1 = np.arange(-5,5,0.5)\n",
    "y = np.power(x1,2)\n",
    "x1,y"
   ]
  },
  {
   "cell_type": "code",
   "execution_count": 3,
   "metadata": {},
   "outputs": [
    {
     "data": {
      "text/plain": [
       "array([23.65763503, 24.56740076, 18.36240552,  8.21748599,  7.52595989,\n",
       "        2.63970351,  6.56560499,  9.04592336, -5.19017221,  1.43687908,\n",
       "        1.57271891,  1.94880659,  4.87417666,  0.04713187,  7.07103267,\n",
       "        3.32778122,  3.15460331, 13.36802328, 15.97327377, 19.32140734])"
      ]
     },
     "execution_count": 3,
     "metadata": {},
     "output_type": "execute_result"
    }
   ],
   "source": [
    "y_noise = 3*np.random.normal(size = x1.size)\n",
    "y = y + y_noise\n",
    "y"
   ]
  },
  {
   "cell_type": "code",
   "execution_count": null,
   "metadata": {},
   "outputs": [
    {
     "data": {
      "text/plain": [
       "<matplotlib.collections.PathCollection at 0x205c2a11940>"
      ]
     },
     "metadata": {},
     "output_type": "display_data"
    },
    {
     "data": {
      "image/png": "[encoded data removed]",
      "text/plain": [
       "<Figure size 432x288 with 1 Axes>"
      ]
     },
     "metadata": {},
     "output_type": "display_data"
    }
   ],
   "source": [
    "plt.scatter(x1,y)"
   ]
  },
  {
   "cell_type": "code",
   "execution_count": 13,
   "metadata": {},
   "outputs": [
    {
     "name": "stdout",
     "output_type": "stream",
     "text": [
      "      x\n",
      "0  -5.0\n",
      "1  -4.5\n",
      "2  -4.0\n",
      "3  -3.5\n",
      "4  -3.0\n",
      "5  -2.5\n",
      "6  -2.0\n",
      "7  -1.5\n",
      "8  -1.0\n",
      "9  -0.5\n",
      "10  0.0\n",
      "11  0.5\n",
      "12  1.0\n",
      "13  1.5\n",
      "14  2.0\n",
      "15  2.5\n",
      "16  3.0\n",
      "17  3.5\n",
      "18  4.0\n",
      "19  4.5\n",
      "      x    x^2\n",
      "0  -5.0  25.00\n",
      "1  -4.5  20.25\n",
      "2  -4.0  16.00\n",
      "3  -3.5  12.25\n",
      "4  -3.0   9.00\n",
      "5  -2.5   6.25\n",
      "6  -2.0   4.00\n",
      "7  -1.5   2.25\n",
      "8  -1.0   1.00\n",
      "9  -0.5   0.25\n",
      "10  0.0   0.00\n",
      "11  0.5   0.25\n",
      "12  1.0   1.00\n",
      "13  1.5   2.25\n",
      "14  2.0   4.00\n",
      "15  2.5   6.25\n",
      "16  3.0   9.00\n",
      "17  3.5  12.25\n",
      "18  4.0  16.00\n",
      "19  4.5  20.25\n"
     ]
    }
   ],
   "source": [
    "# Creating the linear regression model\n",
    "df1 = pd.DataFrame({'x':x1})\n",
    "df2 = pd.DataFrame({'x':x1,'x^2':pow(x1,2)})\n",
    "\n",
    "\n",
    "print(df1)\n",
    "print(df2)"
   ]
  },
  {
   "cell_type": "code",
   "execution_count": 17,
   "metadata": {},
   "outputs": [
    {
     "data": {
      "image/png": "[encoded data removed]",
      "text/plain": [
       "<Figure size 432x288 with 1 Axes>"
      ]
     },
     "metadata": {
      "needs_background": "light"
     },
     "output_type": "display_data"
    }
   ],
   "source": [
    "# creating a model\n",
    "model = LinearRegression()\n",
    "model.fit(df1,y)\n",
    "\n",
    "# predicting the values\n",
    "y_pred = model.predict(df1)\n",
    "y_pred\n",
    "\n",
    "# plotting the values\n",
    "plt.scatter(x1,y)\n",
    "plt.plot(x1,y_pred,color='red')\n",
    "plt.show()"
   ]
  },
  {
   "cell_type": "code",
   "execution_count": null,
   "metadata": {},
   "outputs": [],
   "source": []
  }
 ],
 "metadata": {
  "kernelspec": {
   "display_name": "base",
   "language": "python",
   "name": "python3"
  },
  "language_info": {
   "codemirror_mode": {
    "name": "ipython",
    "version": 3
   },
   "file_extension": ".py",
   "mimetype": "text/x-python",
   "name": "python",
   "nbconvert_exporter": "python",
   "pygments_lexer": "ipython3",
   "version": "3.9.12"
  },
  "orig_nbformat": 4,
  "vscode": {
   "interpreter": {
    "hash": "36526bd4932420a386fe19e89d3f7c800a069b36dd87d412ba674b50a2ad3fe4"
   }
  }
 },
 "nbformat": 4,
 "nbformat_minor": 2
}
